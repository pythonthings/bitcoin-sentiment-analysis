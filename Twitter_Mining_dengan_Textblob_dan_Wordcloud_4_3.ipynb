{
 "cells": [
  {
   "cell_type": "markdown",
   "metadata": {},
   "source": [
    "# Pengambilan Data"
   ]
  },
  {
   "cell_type": "code",
   "execution_count": 19,
   "metadata": {
    "colab": {},
    "colab_type": "code",
    "id": "ZNnMGaYpmxyR"
   },
   "outputs": [],
   "source": [
    "from tweepy import API \n",
    "from tweepy import Cursor\n",
    "from tweepy.streaming import StreamListener\n",
    "from tweepy import OAuthHandler\n",
    "from tweepy import Stream"
   ]
  },
  {
   "cell_type": "code",
   "execution_count": 20,
   "metadata": {
    "colab": {},
    "colab_type": "code",
    "id": "yFKKV6sYmxyW"
   },
   "outputs": [],
   "source": [
    "import twitter_credentials\n",
    "import perbaikan_singkatan\n",
    "import pandas as pd\n",
    "import numpy as np\n",
    "from textblob import TextBlob\n",
    "import re\n",
    "import string\n",
    "import matplotlib.pyplot as plt\n",
    "%matplotlib inline"
   ]
  },
  {
   "cell_type": "code",
   "execution_count": 21,
   "metadata": {
    "colab": {},
    "colab_type": "code",
    "id": "dJiethYtmxyY"
   },
   "outputs": [],
   "source": [
    "# # # # TWITTER CLIENT # # # #\n",
    "class TwitterClient():\n",
    "    def __init__(self, twitter_user=None):\n",
    "        self.auth = TwitterAuthenticator().authenticate_twitter_app()\n",
    "        self.twitter_client = API(self.auth)\n",
    "\n",
    "        self.twitter_user = twitter_user\n",
    "\n",
    "    def get_twitter_client_api(self):\n",
    "        return self.twitter_client"
   ]
  },
  {
   "cell_type": "code",
   "execution_count": 22,
   "metadata": {
    "colab": {},
    "colab_type": "code",
    "id": "ViOahrNmmxyb"
   },
   "outputs": [],
   "source": [
    "# # # # TWITTER AUTHENTICATER # # # #\n",
    "class TwitterAuthenticator():\n",
    "\n",
    "    def authenticate_twitter_app(self):\n",
    "        auth = OAuthHandler(twitter_credentials.CONSUMER_KEY, twitter_credentials.CONSUMER_SECRET)\n",
    "        auth.set_access_token(twitter_credentials.ACCESS_TOKEN, twitter_credentials.ACCESS_TOKEN_SECRET)\n",
    "        return auth"
   ]
  },
  {
   "cell_type": "code",
   "execution_count": 23,
   "metadata": {
    "colab": {},
    "colab_type": "code",
    "id": "q7tuDSMbmxyd"
   },
   "outputs": [],
   "source": [
    "# # # # TWITTER STREAMER # # # #\n",
    "class TwitterStreamer():\n",
    "    \"\"\"\n",
    "    Class for streaming and processing live tweets.\n",
    "    \"\"\"\n",
    "    def __init__(self):\n",
    "        self.twitter_autenticator = TwitterAuthenticator()    \n",
    "\n",
    "    def stream_tweets(self, fetched_tweets_filename, hash_tag_list):\n",
    "        # This handles Twitter authetification and the connection to Twitter Streaming API\n",
    "        listener = TwitterListener(fetched_tweets_filename)\n",
    "        auth = self.twitter_autenticator.authenticate_twitter_app() \n",
    "        stream = Stream(auth, listener)\n",
    "\n",
    "        # This line filter Twitter Streams to capture data by the keywords: \n",
    "        stream.filter(track=hash_tag_list)"
   ]
  },
  {
   "cell_type": "code",
   "execution_count": 24,
   "metadata": {
    "colab": {},
    "colab_type": "code",
    "id": "XeuUb0eimxyg"
   },
   "outputs": [],
   "source": [
    "# # # # TWITTER STREAM LISTENER # # # #\n",
    "class TwitterListener(StreamListener):\n",
    "    \"\"\"\n",
    "    This is a basic listener that just prints received tweets to stdout.\n",
    "    \"\"\"\n",
    "      \n",
    "    def __init__(self, fetched_tweets_filename):\n",
    "        self.fetched_tweets_filename = fetched_tweets_filename\n",
    "\n",
    "    def on_data(self, data):\n",
    "        try:\n",
    "            print(data)\n",
    "            with open(self.fetched_tweets_filename, 'a') as tf:\n",
    "                       tf.write(data)\n",
    "            return True\n",
    "        except BaseException as e:\n",
    "            print(\"Error on_data %s\" % str(e))\n",
    "        return True\n",
    "          \n",
    "    def on_error(self, status):\n",
    "        if status == 420:\n",
    "            # Returning False on_data method in case rate limit occurs.\n",
    "            return False\n",
    "        print(status)"
   ]
  },
  {
   "cell_type": "code",
   "execution_count": 25,
   "metadata": {
    "colab": {},
    "colab_type": "code",
    "id": "vJ6Fp8zkmxym"
   },
   "outputs": [],
   "source": [
    " class TweetAnalyzer():\n",
    "    \"\"\"\n",
    "    Functionality for analyzing and categorizing content from tweets.\n",
    "    \"\"\"\n",
    "         \n",
    "    def clean_tweet(self, tweet):\n",
    "    \n",
    "        return ' '.join(re.sub(\"(@[A-Za-z0-9]+)|([^0-9A-Za-z \\t])|(\\w +:\\/\\/ \\S +)\", \" \", tweet).split())\n",
    "    \n",
    "    def analyze_sentiment(self, tweet):\n",
    "        analysis = TextBlob(self.clean_tweet(tweet))\n",
    "        # analysis = analysis.translate(from_lang = 'in',to='en')\n",
    "\n",
    "        if analysis.sentiment.polarity > 0:\n",
    "            return \"Positif\"\n",
    "        elif analysis.sentiment.polarity == 0:\n",
    "            return \"Netral\"\n",
    "        else:\n",
    "            return \"Negatif\"\n",
    "        \n",
    "    def tweets_to_data_frame(self, tweets):\n",
    "        df = pd.DataFrame(data=[tweet.text for tweet in tweets], columns=['tweets'])\n",
    "        \n",
    "        df['id'] = np.array([tweet.id_str for tweet in tweets])\n",
    "        df['date'] = np.array([tweet.created_at for tweet in tweets])\n",
    "        df['source'] = np.array([tweet.source for tweet in tweets])\n",
    "        df['lang'] = np.array([tweet.lang for tweet in tweets])\n",
    "        df['place'] = np.array([tweet.place for tweet in tweets ])\n",
    "        \n",
    "\n",
    "        return df"
   ]
  },
  {
   "cell_type": "code",
   "execution_count": 26,
   "metadata": {
    "colab": {
     "base_uri": "https://localhost:8080/",
     "height": 1000
    },
    "colab_type": "code",
    "id": "4yAJzsNmmxyo",
    "outputId": "0c75dd1e-8edc-4857-90a7-21bfa8ee396e",
    "scrolled": true
   },
   "outputs": [
    {
     "ename": "NotTranslated",
     "evalue": "Translation API returned the input string unchanged.",
     "output_type": "error",
     "traceback": [
      "\u001b[1;31m---------------------------------------------------------------------------\u001b[0m",
      "\u001b[1;31mNotTranslated\u001b[0m                             Traceback (most recent call last)",
      "\u001b[1;32m<ipython-input-26-5762b7eabcab>\u001b[0m in \u001b[0;36m<module>\u001b[1;34m\u001b[0m\n\u001b[0;32m      8\u001b[0m \u001b[1;33m\u001b[0m\u001b[0m\n\u001b[0;32m      9\u001b[0m     \u001b[0mdf\u001b[0m \u001b[1;33m=\u001b[0m \u001b[0mtweet_analyzer\u001b[0m\u001b[1;33m.\u001b[0m\u001b[0mtweets_to_data_frame\u001b[0m\u001b[1;33m(\u001b[0m\u001b[0mtweets\u001b[0m\u001b[1;33m)\u001b[0m\u001b[1;33m\u001b[0m\u001b[1;33m\u001b[0m\u001b[0m\n\u001b[1;32m---> 10\u001b[1;33m     \u001b[0mdf\u001b[0m\u001b[1;33m[\u001b[0m\u001b[1;34m'sentiment'\u001b[0m\u001b[1;33m]\u001b[0m \u001b[1;33m=\u001b[0m \u001b[0mnp\u001b[0m\u001b[1;33m.\u001b[0m\u001b[0marray\u001b[0m\u001b[1;33m(\u001b[0m\u001b[1;33m[\u001b[0m\u001b[0mtweet_analyzer\u001b[0m\u001b[1;33m.\u001b[0m\u001b[0manalyze_sentiment\u001b[0m\u001b[1;33m(\u001b[0m\u001b[0mtweet\u001b[0m\u001b[1;33m)\u001b[0m \u001b[1;32mfor\u001b[0m \u001b[0mtweet\u001b[0m \u001b[1;32min\u001b[0m \u001b[0mdf\u001b[0m\u001b[1;33m[\u001b[0m\u001b[1;34m'tweets'\u001b[0m\u001b[1;33m]\u001b[0m\u001b[1;33m]\u001b[0m\u001b[1;33m)\u001b[0m\u001b[1;33m\u001b[0m\u001b[1;33m\u001b[0m\u001b[0m\n\u001b[0m\u001b[0;32m     11\u001b[0m \u001b[1;33m\u001b[0m\u001b[0m\n\u001b[0;32m     12\u001b[0m     \u001b[0mprint\u001b[0m\u001b[1;33m(\u001b[0m\u001b[0mdf\u001b[0m\u001b[1;33m)\u001b[0m\u001b[1;33m\u001b[0m\u001b[1;33m\u001b[0m\u001b[0m\n",
      "\u001b[1;32m<ipython-input-26-5762b7eabcab>\u001b[0m in \u001b[0;36m<listcomp>\u001b[1;34m(.0)\u001b[0m\n\u001b[0;32m      8\u001b[0m \u001b[1;33m\u001b[0m\u001b[0m\n\u001b[0;32m      9\u001b[0m     \u001b[0mdf\u001b[0m \u001b[1;33m=\u001b[0m \u001b[0mtweet_analyzer\u001b[0m\u001b[1;33m.\u001b[0m\u001b[0mtweets_to_data_frame\u001b[0m\u001b[1;33m(\u001b[0m\u001b[0mtweets\u001b[0m\u001b[1;33m)\u001b[0m\u001b[1;33m\u001b[0m\u001b[1;33m\u001b[0m\u001b[0m\n\u001b[1;32m---> 10\u001b[1;33m     \u001b[0mdf\u001b[0m\u001b[1;33m[\u001b[0m\u001b[1;34m'sentiment'\u001b[0m\u001b[1;33m]\u001b[0m \u001b[1;33m=\u001b[0m \u001b[0mnp\u001b[0m\u001b[1;33m.\u001b[0m\u001b[0marray\u001b[0m\u001b[1;33m(\u001b[0m\u001b[1;33m[\u001b[0m\u001b[0mtweet_analyzer\u001b[0m\u001b[1;33m.\u001b[0m\u001b[0manalyze_sentiment\u001b[0m\u001b[1;33m(\u001b[0m\u001b[0mtweet\u001b[0m\u001b[1;33m)\u001b[0m \u001b[1;32mfor\u001b[0m \u001b[0mtweet\u001b[0m \u001b[1;32min\u001b[0m \u001b[0mdf\u001b[0m\u001b[1;33m[\u001b[0m\u001b[1;34m'tweets'\u001b[0m\u001b[1;33m]\u001b[0m\u001b[1;33m]\u001b[0m\u001b[1;33m)\u001b[0m\u001b[1;33m\u001b[0m\u001b[1;33m\u001b[0m\u001b[0m\n\u001b[0m\u001b[0;32m     11\u001b[0m \u001b[1;33m\u001b[0m\u001b[0m\n\u001b[0;32m     12\u001b[0m     \u001b[0mprint\u001b[0m\u001b[1;33m(\u001b[0m\u001b[0mdf\u001b[0m\u001b[1;33m)\u001b[0m\u001b[1;33m\u001b[0m\u001b[1;33m\u001b[0m\u001b[0m\n",
      "\u001b[1;32m<ipython-input-25-7b9472fa665f>\u001b[0m in \u001b[0;36manalyze_sentiment\u001b[1;34m(self, tweet)\u001b[0m\n\u001b[0;32m     10\u001b[0m    \u001b[1;32mdef\u001b[0m \u001b[0manalyze_sentiment\u001b[0m\u001b[1;33m(\u001b[0m\u001b[0mself\u001b[0m\u001b[1;33m,\u001b[0m \u001b[0mtweet\u001b[0m\u001b[1;33m)\u001b[0m\u001b[1;33m:\u001b[0m\u001b[1;33m\u001b[0m\u001b[1;33m\u001b[0m\u001b[0m\n\u001b[0;32m     11\u001b[0m        \u001b[0manalysis\u001b[0m \u001b[1;33m=\u001b[0m \u001b[0mTextBlob\u001b[0m\u001b[1;33m(\u001b[0m\u001b[0mself\u001b[0m\u001b[1;33m.\u001b[0m\u001b[0mclean_tweet\u001b[0m\u001b[1;33m(\u001b[0m\u001b[0mtweet\u001b[0m\u001b[1;33m)\u001b[0m\u001b[1;33m)\u001b[0m\u001b[1;33m\u001b[0m\u001b[1;33m\u001b[0m\u001b[0m\n\u001b[1;32m---> 12\u001b[1;33m        \u001b[0manalysis\u001b[0m \u001b[1;33m=\u001b[0m \u001b[0manalysis\u001b[0m\u001b[1;33m.\u001b[0m\u001b[0mtranslate\u001b[0m\u001b[1;33m(\u001b[0m\u001b[0mfrom_lang\u001b[0m \u001b[1;33m=\u001b[0m \u001b[1;34m'in'\u001b[0m\u001b[1;33m,\u001b[0m\u001b[0mto\u001b[0m\u001b[1;33m=\u001b[0m\u001b[1;34m'en'\u001b[0m\u001b[1;33m)\u001b[0m\u001b[1;33m\u001b[0m\u001b[1;33m\u001b[0m\u001b[0m\n\u001b[0m\u001b[0;32m     13\u001b[0m \u001b[1;33m\u001b[0m\u001b[0m\n\u001b[0;32m     14\u001b[0m        \u001b[1;32mif\u001b[0m \u001b[0manalysis\u001b[0m\u001b[1;33m.\u001b[0m\u001b[0msentiment\u001b[0m\u001b[1;33m.\u001b[0m\u001b[0mpolarity\u001b[0m \u001b[1;33m>\u001b[0m \u001b[1;36m0\u001b[0m\u001b[1;33m:\u001b[0m\u001b[1;33m\u001b[0m\u001b[1;33m\u001b[0m\u001b[0m\n",
      "\u001b[1;32m~\\Anaconda3\\lib\\site-packages\\textblob\\blob.py\u001b[0m in \u001b[0;36mtranslate\u001b[1;34m(self, from_lang, to)\u001b[0m\n\u001b[0;32m    545\u001b[0m         \"\"\"\n\u001b[0;32m    546\u001b[0m         return self.__class__(self.translator.translate(self.raw,\n\u001b[1;32m--> 547\u001b[1;33m                               from_lang=from_lang, to_lang=to))\n\u001b[0m\u001b[0;32m    548\u001b[0m \u001b[1;33m\u001b[0m\u001b[0m\n\u001b[0;32m    549\u001b[0m     \u001b[1;32mdef\u001b[0m \u001b[0mdetect_language\u001b[0m\u001b[1;33m(\u001b[0m\u001b[0mself\u001b[0m\u001b[1;33m)\u001b[0m\u001b[1;33m:\u001b[0m\u001b[1;33m\u001b[0m\u001b[1;33m\u001b[0m\u001b[0m\n",
      "\u001b[1;32m~\\Anaconda3\\lib\\site-packages\\textblob\\translate.py\u001b[0m in \u001b[0;36mtranslate\u001b[1;34m(self, source, from_lang, to_lang, host, type_)\u001b[0m\n\u001b[0;32m     59\u001b[0m             \u001b[1;32mexcept\u001b[0m \u001b[0mIndexError\u001b[0m\u001b[1;33m:\u001b[0m\u001b[1;33m\u001b[0m\u001b[1;33m\u001b[0m\u001b[0m\n\u001b[0;32m     60\u001b[0m                 \u001b[1;32mpass\u001b[0m\u001b[1;33m\u001b[0m\u001b[1;33m\u001b[0m\u001b[0m\n\u001b[1;32m---> 61\u001b[1;33m         \u001b[0mself\u001b[0m\u001b[1;33m.\u001b[0m\u001b[0m_validate_translation\u001b[0m\u001b[1;33m(\u001b[0m\u001b[0msource\u001b[0m\u001b[1;33m,\u001b[0m \u001b[0mresult\u001b[0m\u001b[1;33m)\u001b[0m\u001b[1;33m\u001b[0m\u001b[1;33m\u001b[0m\u001b[0m\n\u001b[0m\u001b[0;32m     62\u001b[0m         \u001b[1;32mreturn\u001b[0m \u001b[0mresult\u001b[0m\u001b[1;33m\u001b[0m\u001b[1;33m\u001b[0m\u001b[0m\n\u001b[0;32m     63\u001b[0m \u001b[1;33m\u001b[0m\u001b[0m\n",
      "\u001b[1;32m~\\Anaconda3\\lib\\site-packages\\textblob\\translate.py\u001b[0m in \u001b[0;36m_validate_translation\u001b[1;34m(self, source, result)\u001b[0m\n\u001b[0;32m     83\u001b[0m             \u001b[0mresult\u001b[0m \u001b[1;33m=\u001b[0m \u001b[0mresult\u001b[0m\u001b[1;33m.\u001b[0m\u001b[0mencode\u001b[0m\u001b[1;33m(\u001b[0m\u001b[1;34m'utf-8'\u001b[0m\u001b[1;33m)\u001b[0m\u001b[1;33m\u001b[0m\u001b[1;33m\u001b[0m\u001b[0m\n\u001b[0;32m     84\u001b[0m         \u001b[1;32mif\u001b[0m \u001b[0mresult\u001b[0m\u001b[1;33m.\u001b[0m\u001b[0mstrip\u001b[0m\u001b[1;33m(\u001b[0m\u001b[1;33m)\u001b[0m \u001b[1;33m==\u001b[0m \u001b[0msource\u001b[0m\u001b[1;33m.\u001b[0m\u001b[0mstrip\u001b[0m\u001b[1;33m(\u001b[0m\u001b[1;33m)\u001b[0m\u001b[1;33m:\u001b[0m\u001b[1;33m\u001b[0m\u001b[1;33m\u001b[0m\u001b[0m\n\u001b[1;32m---> 85\u001b[1;33m             \u001b[1;32mraise\u001b[0m \u001b[0mNotTranslated\u001b[0m\u001b[1;33m(\u001b[0m\u001b[1;34m'Translation API returned the input string unchanged.'\u001b[0m\u001b[1;33m)\u001b[0m\u001b[1;33m\u001b[0m\u001b[1;33m\u001b[0m\u001b[0m\n\u001b[0m\u001b[0;32m     86\u001b[0m \u001b[1;33m\u001b[0m\u001b[0m\n\u001b[0;32m     87\u001b[0m     \u001b[1;32mdef\u001b[0m \u001b[0m_request\u001b[0m\u001b[1;33m(\u001b[0m\u001b[0mself\u001b[0m\u001b[1;33m,\u001b[0m \u001b[0murl\u001b[0m\u001b[1;33m,\u001b[0m \u001b[0mhost\u001b[0m\u001b[1;33m=\u001b[0m\u001b[1;32mNone\u001b[0m\u001b[1;33m,\u001b[0m \u001b[0mtype_\u001b[0m\u001b[1;33m=\u001b[0m\u001b[1;32mNone\u001b[0m\u001b[1;33m,\u001b[0m \u001b[0mdata\u001b[0m\u001b[1;33m=\u001b[0m\u001b[1;32mNone\u001b[0m\u001b[1;33m)\u001b[0m\u001b[1;33m:\u001b[0m\u001b[1;33m\u001b[0m\u001b[1;33m\u001b[0m\u001b[0m\n",
      "\u001b[1;31mNotTranslated\u001b[0m: Translation API returned the input string unchanged."
     ]
    }
   ],
   "source": [
    "if __name__ == '__main__':\n",
    "\n",
    "    twitter_client = TwitterClient()\n",
    "    tweet_analyzer = TweetAnalyzer()\n",
    "    keyword = [\"cryptocurrency\"]\n",
    "    api = twitter_client.get_twitter_client_api()\n",
    "    tweets = api.search(keyword, count=100, lang = 'en')\n",
    "\n",
    "    df = tweet_analyzer.tweets_to_data_frame(tweets)\n",
    "    df['sentiment'] = np.array([tweet_analyzer.analyze_sentiment(tweet) for tweet in df['tweets']])\n",
    "\n",
    "    print(df)"
   ]
  },
  {
   "cell_type": "markdown",
   "metadata": {},
   "source": [
    "# Preproses"
   ]
  },
  {
   "cell_type": "code",
   "execution_count": 16,
   "metadata": {
    "colab": {},
    "colab_type": "code",
    "id": "7QLoBfrmmxyu",
    "scrolled": true
   },
   "outputs": [],
   "source": [
    "def remove_punct(text):\n",
    "\n",
    "    neg_pattern = re.compile(r'\\b(' + '|'.join(perbaikan_singkatan.negations_dic.keys()) + r')\\b')    \n",
    "    #hapus simbol\n",
    "    text = re.sub('((www\\.[^\\s]+)|(https?://[^\\s]+))',' ',text)\n",
    "    text = re.sub('rt @[^\\s]+',' ', text)\n",
    "    text = re.sub('@[^\\s]+',' ',text)\n",
    "    text = re.sub(r'[^\\x00-\\x7F]+',' ', text)\n",
    "    #Remove additional white spaces\n",
    "    text = re.sub('[\\s]+', ' ', text)\n",
    "    #Replace #word with word\n",
    "    neg_handled = neg_pattern.sub(lambda x: perbaikan_singkatan.negations_dic[x.group()], text)\n",
    "    text = re.sub(r'#([^\\s]+)', r'\\1', neg_handled)\n",
    "    #trim\n",
    "    text = text.strip('\\'\"')\n",
    "    text  = \"\".join([char for char in text if char not in string.punctuation])\n",
    "    #text = re.sub('[0-9]+', '', text)\n",
    "\n",
    "    return text\n",
    "\n",
    "df['tweet_bersih'] = df['tweets'].apply(lambda x: remove_punct(x.lower()))"
   ]
  },
  {
   "cell_type": "code",
   "execution_count": 17,
   "metadata": {
    "colab": {
     "base_uri": "https://localhost:8080/",
     "height": 1000
    },
    "colab_type": "code",
    "id": "926onC3Qmxyw",
    "outputId": "9574d473-ebd8-4fc9-f7c0-7f02e947e82f",
    "scrolled": true
   },
   "outputs": [
    {
     "data": {
      "text/html": [
       "<div>\n",
       "<style scoped>\n",
       "    .dataframe tbody tr th:only-of-type {\n",
       "        vertical-align: middle;\n",
       "    }\n",
       "\n",
       "    .dataframe tbody tr th {\n",
       "        vertical-align: top;\n",
       "    }\n",
       "\n",
       "    .dataframe thead th {\n",
       "        text-align: right;\n",
       "    }\n",
       "</style>\n",
       "<table border=\"1\" class=\"dataframe\">\n",
       "  <thead>\n",
       "    <tr style=\"text-align: right;\">\n",
       "      <th></th>\n",
       "      <th>tweets</th>\n",
       "      <th>id</th>\n",
       "      <th>date</th>\n",
       "      <th>source</th>\n",
       "      <th>lang</th>\n",
       "      <th>place</th>\n",
       "      <th>sentiment</th>\n",
       "      <th>tweet_bersih</th>\n",
       "    </tr>\n",
       "  </thead>\n",
       "  <tbody>\n",
       "    <tr>\n",
       "      <td>0</td>\n",
       "      <td>Listen to Neil Bergquist of Coinme (@Coinme) a...</td>\n",
       "      <td>1235686678888497153</td>\n",
       "      <td>2020-03-05 22:00:36</td>\n",
       "      <td>Hootsuite Inc.</td>\n",
       "      <td>en</td>\n",
       "      <td>None</td>\n",
       "      <td>Netral</td>\n",
       "      <td>listen to neil bergquist of coinme  and jim ga...</td>\n",
       "    </tr>\n",
       "    <tr>\n",
       "      <td>1</td>\n",
       "      <td>RT @IrishGirlCrypt1: 🚨1500 #Tron #Crypto #Give...</td>\n",
       "      <td>1235686664779051008</td>\n",
       "      <td>2020-03-05 22:00:33</td>\n",
       "      <td>Twitter for Android</td>\n",
       "      <td>en</td>\n",
       "      <td>None</td>\n",
       "      <td>Positif</td>\n",
       "      <td>1500 tron crypto giveaway three winners get 5...</td>\n",
       "    </tr>\n",
       "    <tr>\n",
       "      <td>2</td>\n",
       "      <td>Earning #cryptocurrency for selling my stuff o...</td>\n",
       "      <td>1235686646563000320</td>\n",
       "      <td>2020-03-05 22:00:29</td>\n",
       "      <td>Listia</td>\n",
       "      <td>en</td>\n",
       "      <td>None</td>\n",
       "      <td>Netral</td>\n",
       "      <td>earning cryptocurrency for selling my stuff on...</td>\n",
       "    </tr>\n",
       "    <tr>\n",
       "      <td>3</td>\n",
       "      <td>RT @smart_stats: Market Density:\\n\\nActive cry...</td>\n",
       "      <td>1235686635666157568</td>\n",
       "      <td>2020-03-05 22:00:26</td>\n",
       "      <td>Twitter Web App</td>\n",
       "      <td>en</td>\n",
       "      <td>None</td>\n",
       "      <td>Negatif</td>\n",
       "      <td>market density active cryptocurrencies 3472 6...</td>\n",
       "    </tr>\n",
       "    <tr>\n",
       "      <td>4</td>\n",
       "      <td>RT @AdeldMeyer: Wow big wins for #crypto two d...</td>\n",
       "      <td>1235686635322236930</td>\n",
       "      <td>2020-03-05 22:00:26</td>\n",
       "      <td>Twitter for Android</td>\n",
       "      <td>en</td>\n",
       "      <td>None</td>\n",
       "      <td>Positif</td>\n",
       "      <td>wow big wins for crypto two days in a row fir...</td>\n",
       "    </tr>\n",
       "    <tr>\n",
       "      <td>...</td>\n",
       "      <td>...</td>\n",
       "      <td>...</td>\n",
       "      <td>...</td>\n",
       "      <td>...</td>\n",
       "      <td>...</td>\n",
       "      <td>...</td>\n",
       "      <td>...</td>\n",
       "      <td>...</td>\n",
       "    </tr>\n",
       "    <tr>\n",
       "      <td>89</td>\n",
       "      <td>RT @1CrypticPoet: 🔥 Bitcoin IRA Reveals Data H...</td>\n",
       "      <td>1235684802705133570</td>\n",
       "      <td>2020-03-05 21:53:09</td>\n",
       "      <td>Twitter Web App</td>\n",
       "      <td>en</td>\n",
       "      <td>None</td>\n",
       "      <td>Positif</td>\n",
       "      <td>bitcoin ira reveals data highlighting strong ...</td>\n",
       "    </tr>\n",
       "    <tr>\n",
       "      <td>90</td>\n",
       "      <td>RT @crypto_checkout: Our February Community Co...</td>\n",
       "      <td>1235684800503128065</td>\n",
       "      <td>2020-03-05 21:53:09</td>\n",
       "      <td>Twitter for Android</td>\n",
       "      <td>en</td>\n",
       "      <td>None</td>\n",
       "      <td>Positif</td>\n",
       "      <td>kami february community coin of the month axe...</td>\n",
       "    </tr>\n",
       "    <tr>\n",
       "      <td>92</td>\n",
       "      <td>RT @DAPS_2020: $DAPS has cutting edge #private...</td>\n",
       "      <td>1235684743401721857</td>\n",
       "      <td>2020-03-05 21:52:55</td>\n",
       "      <td>Twitter for Android</td>\n",
       "      <td>en</td>\n",
       "      <td>None</td>\n",
       "      <td>Positif</td>\n",
       "      <td>daps has cutting edge private blockchain team...</td>\n",
       "    </tr>\n",
       "    <tr>\n",
       "      <td>93</td>\n",
       "      <td>RT @campuscodi: Malicious Chrome extension cau...</td>\n",
       "      <td>1235684741992648704</td>\n",
       "      <td>2020-03-05 21:52:55</td>\n",
       "      <td>Twitter Web App</td>\n",
       "      <td>en</td>\n",
       "      <td>None</td>\n",
       "      <td>Netral</td>\n",
       "      <td>malicious chrome extension caught stealing le...</td>\n",
       "    </tr>\n",
       "    <tr>\n",
       "      <td>96</td>\n",
       "      <td>Hello RT @coindesk: South Korean lawmakers vot...</td>\n",
       "      <td>1235684721385848832</td>\n",
       "      <td>2020-03-05 21:52:50</td>\n",
       "      <td>autotwit4me</td>\n",
       "      <td>en</td>\n",
       "      <td>None</td>\n",
       "      <td>Negatif</td>\n",
       "      <td>hello south korean lawmakers voted to place to...</td>\n",
       "    </tr>\n",
       "  </tbody>\n",
       "</table>\n",
       "<p>73 rows × 8 columns</p>\n",
       "</div>"
      ],
      "text/plain": [
       "                                               tweets                   id  \\\n",
       "0   Listen to Neil Bergquist of Coinme (@Coinme) a...  1235686678888497153   \n",
       "1   RT @IrishGirlCrypt1: 🚨1500 #Tron #Crypto #Give...  1235686664779051008   \n",
       "2   Earning #cryptocurrency for selling my stuff o...  1235686646563000320   \n",
       "3   RT @smart_stats: Market Density:\\n\\nActive cry...  1235686635666157568   \n",
       "4   RT @AdeldMeyer: Wow big wins for #crypto two d...  1235686635322236930   \n",
       "..                                                ...                  ...   \n",
       "89  RT @1CrypticPoet: 🔥 Bitcoin IRA Reveals Data H...  1235684802705133570   \n",
       "90  RT @crypto_checkout: Our February Community Co...  1235684800503128065   \n",
       "92  RT @DAPS_2020: $DAPS has cutting edge #private...  1235684743401721857   \n",
       "93  RT @campuscodi: Malicious Chrome extension cau...  1235684741992648704   \n",
       "96  Hello RT @coindesk: South Korean lawmakers vot...  1235684721385848832   \n",
       "\n",
       "                  date               source lang place sentiment  \\\n",
       "0  2020-03-05 22:00:36       Hootsuite Inc.   en  None    Netral   \n",
       "1  2020-03-05 22:00:33  Twitter for Android   en  None   Positif   \n",
       "2  2020-03-05 22:00:29               Listia   en  None    Netral   \n",
       "3  2020-03-05 22:00:26      Twitter Web App   en  None   Negatif   \n",
       "4  2020-03-05 22:00:26  Twitter for Android   en  None   Positif   \n",
       "..                 ...                  ...  ...   ...       ...   \n",
       "89 2020-03-05 21:53:09      Twitter Web App   en  None   Positif   \n",
       "90 2020-03-05 21:53:09  Twitter for Android   en  None   Positif   \n",
       "92 2020-03-05 21:52:55  Twitter for Android   en  None   Positif   \n",
       "93 2020-03-05 21:52:55      Twitter Web App   en  None    Netral   \n",
       "96 2020-03-05 21:52:50          autotwit4me   en  None   Negatif   \n",
       "\n",
       "                                         tweet_bersih  \n",
       "0   listen to neil bergquist of coinme  and jim ga...  \n",
       "1    1500 tron crypto giveaway three winners get 5...  \n",
       "2   earning cryptocurrency for selling my stuff on...  \n",
       "3    market density active cryptocurrencies 3472 6...  \n",
       "4    wow big wins for crypto two days in a row fir...  \n",
       "..                                                ...  \n",
       "89   bitcoin ira reveals data highlighting strong ...  \n",
       "90   kami february community coin of the month axe...  \n",
       "92   daps has cutting edge private blockchain team...  \n",
       "93   malicious chrome extension caught stealing le...  \n",
       "96  hello south korean lawmakers voted to place to...  \n",
       "\n",
       "[73 rows x 8 columns]"
      ]
     },
     "execution_count": 17,
     "metadata": {},
     "output_type": "execute_result"
    }
   ],
   "source": [
    "#--- REMOVE DUPLICATES\n",
    "df = df.drop_duplicates(['tweet_bersih'])\n",
    "df"
   ]
  },
  {
   "cell_type": "code",
   "execution_count": 18,
   "metadata": {
    "colab": {},
    "colab_type": "code",
    "id": "3e5jb0-Ymxy3"
   },
   "outputs": [],
   "source": [
    "df.to_excel(\"Data Tanggal 6 pagi (cryptocurrency).xlsx\")\n",
    "df.to_csv(\"Data Tanggal 6 pagi (cryptocurrency).csv\")"
   ]
  },
  {
   "cell_type": "markdown",
   "metadata": {},
   "source": [
    "# Visualisasi Data"
   ]
  },
  {
   "cell_type": "code",
   "execution_count": null,
   "metadata": {
    "colab": {
     "base_uri": "https://localhost:8080/",
     "height": 408
    },
    "colab_type": "code",
    "id": "6-3TXNjGmxy5",
    "outputId": "5e834ef3-4167-4fdc-86f5-b4338a49932e",
    "scrolled": true
   },
   "outputs": [],
   "source": [
    "df = pd.read_excel('myindihome.xlsx',header=0,encoding = 'unicode_escape')\n",
    "#df = df.drop(columns = \"Unnamed: 0\")\n",
    "df.count"
   ]
  },
  {
   "cell_type": "code",
   "execution_count": null,
   "metadata": {
    "colab": {
     "base_uri": "https://localhost:8080/",
     "height": 341
    },
    "colab_type": "code",
    "id": "iv0K99ZrwUQ1",
    "outputId": "68b4fd84-c792-44e0-b97e-1aa51535964e"
   },
   "outputs": [],
   "source": [
    "df = df.drop_duplicates(['tweet_bersih'])\n",
    "df = df.set_index(\"source\")\n",
    "df = df.drop(\"Sociomedio Pro Telkom\", axis=0)"
   ]
  },
  {
   "cell_type": "code",
   "execution_count": null,
   "metadata": {
    "colab": {},
    "colab_type": "code",
    "id": "ItvsqbuuwUQ9"
   },
   "outputs": [],
   "source": [
    "df_positif = df[df['sentiment'] == 'Positif']\n",
    "df_negatif = df[df['sentiment'] == 'Negatif']\n",
    "df_netral = df[df['sentiment'] == 'Netral']\n",
    "df_negatif"
   ]
  },
  {
   "cell_type": "code",
   "execution_count": null,
   "metadata": {
    "colab": {
     "base_uri": "https://localhost:8080/",
     "height": 85
    },
    "colab_type": "code",
    "id": "mHtnlo6wmxy8",
    "outputId": "33ad216d-b059-49a2-eafa-bbeb7d2841a5"
   },
   "outputs": [],
   "source": [
    "sentimen_count = df['sentiment'].value_counts()\n",
    "sentimen_count"
   ]
  },
  {
   "cell_type": "code",
   "execution_count": null,
   "metadata": {
    "colab": {
     "base_uri": "https://localhost:8080/",
     "height": 281
    },
    "colab_type": "code",
    "id": "cx_5KchlmxzA",
    "outputId": "85f61c67-cdc8-4937-95f1-2b96b97fa9bc"
   },
   "outputs": [],
   "source": [
    "objects = sentimen_count.index\n",
    "y_pos = np.arange(len(objects))\n",
    "performance = sentimen_count\n",
    " \n",
    "plt.bar(y_pos, performance, align='center', alpha=0.5)\n",
    "plt.xticks(y_pos, objects)\n",
    "plt.ylabel('Jumlah dalam tweets')\n",
    "plt.title('Sentiment Topik Wifi.id')\n",
    " \n",
    "plt.show()\n",
    "plt.show()"
   ]
  },
  {
   "cell_type": "code",
   "execution_count": null,
   "metadata": {
    "colab": {
     "base_uri": "https://localhost:8080/",
     "height": 255
    },
    "colab_type": "code",
    "id": "yQkptqjEmxzD",
    "outputId": "f952adac-8191-44bd-bade-8ce0d2acf6e3"
   },
   "outputs": [],
   "source": [
    "labels = sentimen_count.index\n",
    "sizes = sentimen_count\n",
    "colors = ['steelblue', 'red', 'gray']\n",
    "explode = (0.2, 0.1, 0.1)  # explode 1st slice\n",
    " \n",
    "# Plot\n",
    "plt.pie(sizes, explode=explode, labels=labels, colors=colors,\n",
    "        autopct='%1.1f%%', shadow=True, startangle=140)\n",
    " \n",
    "plt.axis('equal')\n",
    "plt.show()"
   ]
  },
  {
   "cell_type": "code",
   "execution_count": null,
   "metadata": {
    "colab": {},
    "colab_type": "code",
    "id": "jJq-7I7tmxzI"
   },
   "outputs": [],
   "source": [
    "from wordcloud import WordCloud\n",
    "from Sastrawi.StopWordRemover.StopWordRemoverFactory import StopWordRemoverFactory\n",
    "factory = StopWordRemoverFactory()\n",
    "stopwords = factory.get_stop_words()"
   ]
  },
  {
   "cell_type": "code",
   "execution_count": null,
   "metadata": {
    "colab": {},
    "colab_type": "code",
    "id": "nEZzClf9mxzO"
   },
   "outputs": [],
   "source": [
    "words_positif = ' '.join(df_positif['tweet_bersih'])\n",
    "words_negatif = ' '.join(df_negatif['tweet_bersih'])\n",
    "words_netral = ' '.join(df_netral['tweet_bersih'])"
   ]
  },
  {
   "cell_type": "code",
   "execution_count": null,
   "metadata": {
    "colab": {},
    "colab_type": "code",
    "id": "YUyu2uGhmxzS"
   },
   "outputs": [],
   "source": [
    "wordcloud = WordCloud(stopwords = stopwords, background_color='white', \n",
    "                      height = 1000, width = 2000).generate(words_positif)"
   ]
  },
  {
   "cell_type": "code",
   "execution_count": null,
   "metadata": {
    "colab": {
     "base_uri": "https://localhost:8080/",
     "height": 261
    },
    "colab_type": "code",
    "id": "MlQYPklHwUR3",
    "outputId": "c92778b8-7f98-46e7-c2b8-375c6b594bec"
   },
   "outputs": [],
   "source": [
    "plt.imshow(wordcloud, interpolation = \"bilinear\")\n",
    "plt.axis('off')\n",
    "plt.show()"
   ]
  },
  {
   "cell_type": "code",
   "execution_count": null,
   "metadata": {
    "colab": {
     "base_uri": "https://localhost:8080/",
     "height": 34
    },
    "colab_type": "code",
    "id": "xKV4WT4YwUSD",
    "outputId": "596452ee-b8b7-4e30-a4ea-a8e7d0d07218"
   },
   "outputs": [],
   "source": [
    "# Save the image\n",
    "wordcloud.to_file(\"wordcloud_positif.png\")"
   ]
  },
  {
   "cell_type": "code",
   "execution_count": null,
   "metadata": {
    "colab": {},
    "colab_type": "code",
    "id": "3Og4yLytwUSI"
   },
   "outputs": [],
   "source": [
    "wordcloud = WordCloud(stopwords = stopwords, background_color='white', \n",
    "                      height = 1000, width = 2000).generate(words_negatif)"
   ]
  },
  {
   "cell_type": "code",
   "execution_count": null,
   "metadata": {
    "colab": {
     "base_uri": "https://localhost:8080/",
     "height": 261
    },
    "colab_type": "code",
    "id": "cECABSjPmxza",
    "outputId": "093badfb-2488-4466-db09-55dea72147b2"
   },
   "outputs": [],
   "source": [
    "plt.imshow(wordcloud, interpolation = \"bilinear\")\n",
    "plt.axis('off')\n",
    "plt.show()"
   ]
  },
  {
   "cell_type": "code",
   "execution_count": null,
   "metadata": {
    "colab": {
     "base_uri": "https://localhost:8080/",
     "height": 34
    },
    "colab_type": "code",
    "id": "Ft1ExPvjmxzk",
    "outputId": "d4a1b3fd-ae46-4fb0-d5a0-20815f536480"
   },
   "outputs": [],
   "source": [
    "# Save the image\n",
    "wordcloud.to_file(\"wordcloud_negatif1.png\")"
   ]
  },
  {
   "cell_type": "code",
   "execution_count": null,
   "metadata": {
    "colab": {},
    "colab_type": "code",
    "id": "8FGliCPWuLKv"
   },
   "outputs": [],
   "source": [
    "wordcloud = WordCloud(stopwords = stopwords, background_color='white', \n",
    "                      height = 1000, width = 2000).generate(words_netral)"
   ]
  },
  {
   "cell_type": "code",
   "execution_count": null,
   "metadata": {
    "colab": {
     "base_uri": "https://localhost:8080/",
     "height": 261
    },
    "colab_type": "code",
    "id": "gkxb_vZ-wUSh",
    "outputId": "45c166cf-cf15-4748-fce2-3cc776c57d22"
   },
   "outputs": [],
   "source": [
    "plt.imshow(wordcloud, interpolation = \"bilinear\")\n",
    "plt.axis('off')\n",
    "plt.show()"
   ]
  },
  {
   "cell_type": "code",
   "execution_count": null,
   "metadata": {
    "colab": {
     "base_uri": "https://localhost:8080/",
     "height": 34
    },
    "colab_type": "code",
    "id": "c0nPmFgswUSk",
    "outputId": "56635974-1fcb-49a7-aa09-363174f85bdb"
   },
   "outputs": [],
   "source": [
    "# Save the image\n",
    "wordcloud.to_file(\"wordcloud_netral.png\")"
   ]
  }
 ],
 "metadata": {
  "colab": {
   "collapsed_sections": [],
   "name": "Twitter_Mining_dengan_Textblob_dan_Wordcloud_3_2.ipynb",
   "provenance": [],
   "version": "0.3.2"
  },
  "kernelspec": {
   "display_name": "Python 3",
   "language": "python",
   "name": "python3"
  },
  "language_info": {
   "codemirror_mode": {
    "name": "ipython",
    "version": 3
   },
   "file_extension": ".py",
   "mimetype": "text/x-python",
   "name": "python",
   "nbconvert_exporter": "python",
   "pygments_lexer": "ipython3",
   "version": "3.7.4"
  }
 },
 "nbformat": 4,
 "nbformat_minor": 1
}
