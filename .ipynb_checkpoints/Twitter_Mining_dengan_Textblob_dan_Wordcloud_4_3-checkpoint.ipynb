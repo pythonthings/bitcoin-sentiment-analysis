{
 "cells": [
  {
   "cell_type": "markdown",
   "metadata": {},
   "source": [
    "# Pengambilan Data"
   ]
  },
  {
   "cell_type": "code",
   "execution_count": 1,
   "metadata": {
    "colab": {},
    "colab_type": "code",
    "id": "ZNnMGaYpmxyR"
   },
   "outputs": [],
   "source": [
    "from tweepy import API \n",
    "from tweepy import Cursor\n",
    "from tweepy.streaming import StreamListener\n",
    "from tweepy import OAuthHandler\n",
    "from tweepy import Stream"
   ]
  },
  {
   "cell_type": "code",
   "execution_count": 2,
   "metadata": {
    "colab": {},
    "colab_type": "code",
    "id": "yFKKV6sYmxyW"
   },
   "outputs": [],
   "source": [
    "import twitter_credentials\n",
    "import perbaikan_singkatan\n",
    "import pandas as pd\n",
    "import numpy as np\n",
    "from textblob import TextBlob\n",
    "import re\n",
    "import string\n",
    "import matplotlib.pyplot as plt\n",
    "%matplotlib inline"
   ]
  },
  {
   "cell_type": "code",
   "execution_count": 3,
   "metadata": {
    "colab": {},
    "colab_type": "code",
    "id": "dJiethYtmxyY"
   },
   "outputs": [],
   "source": [
    "# # # # TWITTER CLIENT # # # #\n",
    "class TwitterClient():\n",
    "    def __init__(self, twitter_user=None):\n",
    "        self.auth = TwitterAuthenticator().authenticate_twitter_app()\n",
    "        self.twitter_client = API(self.auth)\n",
    "\n",
    "        self.twitter_user = twitter_user\n",
    "\n",
    "    def get_twitter_client_api(self):\n",
    "        return self.twitter_client"
   ]
  },
  {
   "cell_type": "code",
   "execution_count": 4,
   "metadata": {
    "colab": {},
    "colab_type": "code",
    "id": "ViOahrNmmxyb"
   },
   "outputs": [],
   "source": [
    "# # # # TWITTER AUTHENTICATER # # # #\n",
    "class TwitterAuthenticator():\n",
    "\n",
    "    def authenticate_twitter_app(self):\n",
    "        auth = OAuthHandler(twitter_credentials.CONSUMER_KEY, twitter_credentials.CONSUMER_SECRET)\n",
    "        auth.set_access_token(twitter_credentials.ACCESS_TOKEN, twitter_credentials.ACCESS_TOKEN_SECRET)\n",
    "        return auth"
   ]
  },
  {
   "cell_type": "code",
   "execution_count": 5,
   "metadata": {
    "colab": {},
    "colab_type": "code",
    "id": "q7tuDSMbmxyd"
   },
   "outputs": [],
   "source": [
    "# # # # TWITTER STREAMER # # # #\n",
    "class TwitterStreamer():\n",
    "    \"\"\"\n",
    "    Class for streaming and processing live tweets.\n",
    "    \"\"\"\n",
    "    def __init__(self):\n",
    "        self.twitter_autenticator = TwitterAuthenticator()    \n",
    "\n",
    "    def stream_tweets(self, fetched_tweets_filename, hash_tag_list):\n",
    "        # This handles Twitter authetification and the connection to Twitter Streaming API\n",
    "        listener = TwitterListener(fetched_tweets_filename)\n",
    "        auth = self.twitter_autenticator.authenticate_twitter_app() \n",
    "        stream = Stream(auth, listener)\n",
    "\n",
    "        # This line filter Twitter Streams to capture data by the keywords: \n",
    "        stream.filter(track=hash_tag_list)"
   ]
  },
  {
   "cell_type": "code",
   "execution_count": 6,
   "metadata": {
    "colab": {},
    "colab_type": "code",
    "id": "XeuUb0eimxyg"
   },
   "outputs": [],
   "source": [
    "# # # # TWITTER STREAM LISTENER # # # #\n",
    "class TwitterListener(StreamListener):\n",
    "    \"\"\"\n",
    "    This is a basic listener that just prints received tweets to stdout.\n",
    "    \"\"\"\n",
    "      \n",
    "    def __init__(self, fetched_tweets_filename):\n",
    "        self.fetched_tweets_filename = fetched_tweets_filename\n",
    "\n",
    "    def on_data(self, data):\n",
    "        try:\n",
    "            print(data)\n",
    "            with open(self.fetched_tweets_filename, 'a') as tf:\n",
    "                       tf.write(data)\n",
    "            return True\n",
    "        except BaseException as e:\n",
    "            print(\"Error on_data %s\" % str(e))\n",
    "        return True\n",
    "          \n",
    "    def on_error(self, status):\n",
    "        if status == 420:\n",
    "            # Returning False on_data method in case rate limit occurs.\n",
    "            return False\n",
    "        print(status)"
   ]
  },
  {
   "cell_type": "code",
   "execution_count": 7,
   "metadata": {
    "colab": {},
    "colab_type": "code",
    "id": "vJ6Fp8zkmxym"
   },
   "outputs": [],
   "source": [
    " class TweetAnalyzer():\n",
    "    \"\"\"\n",
    "    Functionality for analyzing and categorizing content from tweets.\n",
    "    \"\"\"\n",
    "         \n",
    "    def clean_tweet(self, tweet):\n",
    "    \n",
    "        return ' '.join(re.sub(\"(@[A-Za-z0-9]+)|([^0-9A-Za-z \\t])|(\\w +:\\/\\/ \\S +)\", \" \", tweet).split())\n",
    "    \n",
    "    def analyze_sentiment(self, tweet):\n",
    "        analysis = TextBlob(self.clean_tweet(tweet))\n",
    "        # analysis = analysis.translate(from_lang = 'in',to='en')\n",
    "\n",
    "        if analysis.sentiment.polarity > 0:\n",
    "            return \"Positif\"\n",
    "        elif analysis.sentiment.polarity == 0:\n",
    "            return \"Netral\"\n",
    "        else:\n",
    "            return \"Negatif\"\n",
    "        \n",
    "    def tweets_to_data_frame(self, tweets):\n",
    "        df = pd.DataFrame(data=[tweet.text for tweet in tweets], columns=['tweets'])\n",
    "        \n",
    "        df['id'] = np.array([tweet.id_str for tweet in tweets])\n",
    "        df['date'] = np.array([tweet.created_at for tweet in tweets])\n",
    "        df['source'] = np.array([tweet.source for tweet in tweets])\n",
    "        df['lang'] = np.array([tweet.lang for tweet in tweets])\n",
    "        df['place'] = np.array([tweet.place for tweet in tweets ])\n",
    "        \n",
    "\n",
    "        return df"
   ]
  },
  {
   "cell_type": "code",
   "execution_count": 12,
   "metadata": {
    "colab": {
     "base_uri": "https://localhost:8080/",
     "height": 1000
    },
    "colab_type": "code",
    "id": "4yAJzsNmmxyo",
    "outputId": "0c75dd1e-8edc-4857-90a7-21bfa8ee396e",
    "scrolled": true
   },
   "outputs": [
    {
     "name": "stdout",
     "output_type": "stream",
     "text": [
      "                                               tweets                   id  \\\n",
      "0   @mims Fiat and debt allows future consumption ...  1235810469073416192   \n",
      "1   RT @traderberg: Bitcoin patterns? Scaled in pr...  1235810459531374592   \n",
      "2   RT @real12k: People have started stocking up o...  1235810458872905732   \n",
      "3                  @ABPNews Leave Bank,Accept Bitcoin  1235810456746385411   \n",
      "4   RT @real12k: Looking to buy an $ACED #masterno...  1235810438924742656   \n",
      "..                                                ...                  ...   \n",
      "95  RT @cz_binance: When it rains, it pours. #adop...  1235809428546260993   \n",
      "96  @MartyBent Bitcoin will win!? Win what? Sounds...  1235809413639725056   \n",
      "97  RT @Eljaboom2030: 🎉FAST GİVEAWAY $10 #ETH #Giv...  1235809413081862145   \n",
      "98  RT @BTCTN: $65M Investment Fuels Natural Gas P...  1235809412305965056   \n",
      "99  HAPPY 6TH ANNIVERSARY!\\n\\nto our beloved #NewY...  1235809403984433153   \n",
      "\n",
      "                  date               source lang place sentiment  \n",
      "0  2020-03-06 06:12:30  Twitter for Android   en  None    Netral  \n",
      "1  2020-03-06 06:12:28      Twitter Web App   en  None    Netral  \n",
      "2  2020-03-06 06:12:28      Twitter Web App   en  None    Netral  \n",
      "3  2020-03-06 06:12:27  Twitter for Android   en  None    Netral  \n",
      "4  2020-03-06 06:12:23      Twitter Web App   en  None    Netral  \n",
      "..                 ...                  ...  ...   ...       ...  \n",
      "95 2020-03-06 06:08:22  Twitter for Android   en  None    Netral  \n",
      "96 2020-03-06 06:08:19  Twitter for Android   en  None   Positif  \n",
      "97 2020-03-06 06:08:18  Twitter for Android   en  None   Positif  \n",
      "98 2020-03-06 06:08:18  Twitter for Android   en  None   Negatif  \n",
      "99 2020-03-06 06:08:16      Twitter Web App   en  None   Positif  \n",
      "\n",
      "[100 rows x 7 columns]\n"
     ]
    }
   ],
   "source": [
    "if __name__ == '__main__':\n",
    "\n",
    "    twitter_client = TwitterClient()\n",
    "    tweet_analyzer = TweetAnalyzer()\n",
    "    keyword = [\"bitcoin\"]\n",
    "    api = twitter_client.get_twitter_client_api()\n",
    "    tweets = api.search(keyword, count=100, lang = 'en')\n",
    "\n",
    "    df = tweet_analyzer.tweets_to_data_frame(tweets)\n",
    "    df['sentiment'] = np.array([tweet_analyzer.analyze_sentiment(tweet) for tweet in df['tweets']])\n",
    "\n",
    "    print(df)"
   ]
  },
  {
   "cell_type": "markdown",
   "metadata": {},
   "source": [
    "# Preproses"
   ]
  },
  {
   "cell_type": "code",
   "execution_count": 13,
   "metadata": {
    "colab": {},
    "colab_type": "code",
    "id": "7QLoBfrmmxyu",
    "scrolled": true
   },
   "outputs": [],
   "source": [
    "def remove_punct(text):\n",
    "\n",
    "    neg_pattern = re.compile(r'\\b(' + '|'.join(perbaikan_singkatan.negations_dic.keys()) + r')\\b')    \n",
    "    #hapus simbol\n",
    "    text = re.sub('((www\\.[^\\s]+)|(https?://[^\\s]+))',' ',text)\n",
    "    text = re.sub('rt @[^\\s]+',' ', text)\n",
    "    text = re.sub('@[^\\s]+',' ',text)\n",
    "    text = re.sub(r'[^\\x00-\\x7F]+',' ', text)\n",
    "    #Remove additional white spaces\n",
    "    text = re.sub('[\\s]+', ' ', text)\n",
    "    #Replace #word with word\n",
    "    neg_handled = neg_pattern.sub(lambda x: perbaikan_singkatan.negations_dic[x.group()], text)\n",
    "    text = re.sub(r'#([^\\s]+)', r'\\1', neg_handled)\n",
    "    #trim\n",
    "    text = text.strip('\\'\"')\n",
    "    text  = \"\".join([char for char in text if char not in string.punctuation])\n",
    "    #text = re.sub('[0-9]+', '', text)\n",
    "\n",
    "    return text\n",
    "\n",
    "df['tweet_bersih'] = df['tweets'].apply(lambda x: remove_punct(x.lower()))"
   ]
  },
  {
   "cell_type": "code",
   "execution_count": 14,
   "metadata": {
    "colab": {
     "base_uri": "https://localhost:8080/",
     "height": 1000
    },
    "colab_type": "code",
    "id": "926onC3Qmxyw",
    "outputId": "9574d473-ebd8-4fc9-f7c0-7f02e947e82f",
    "scrolled": true
   },
   "outputs": [
    {
     "data": {
      "text/html": [
       "<div>\n",
       "<style scoped>\n",
       "    .dataframe tbody tr th:only-of-type {\n",
       "        vertical-align: middle;\n",
       "    }\n",
       "\n",
       "    .dataframe tbody tr th {\n",
       "        vertical-align: top;\n",
       "    }\n",
       "\n",
       "    .dataframe thead th {\n",
       "        text-align: right;\n",
       "    }\n",
       "</style>\n",
       "<table border=\"1\" class=\"dataframe\">\n",
       "  <thead>\n",
       "    <tr style=\"text-align: right;\">\n",
       "      <th></th>\n",
       "      <th>tweets</th>\n",
       "      <th>id</th>\n",
       "      <th>date</th>\n",
       "      <th>source</th>\n",
       "      <th>lang</th>\n",
       "      <th>place</th>\n",
       "      <th>sentiment</th>\n",
       "      <th>tweet_bersih</th>\n",
       "    </tr>\n",
       "  </thead>\n",
       "  <tbody>\n",
       "    <tr>\n",
       "      <td>0</td>\n",
       "      <td>@mims Fiat and debt allows future consumption ...</td>\n",
       "      <td>1235810469073416192</td>\n",
       "      <td>2020-03-06 06:12:30</td>\n",
       "      <td>Twitter for Android</td>\n",
       "      <td>en</td>\n",
       "      <td>None</td>\n",
       "      <td>Netral</td>\n",
       "      <td>fiat and debt allows future consumption to be...</td>\n",
       "    </tr>\n",
       "    <tr>\n",
       "      <td>1</td>\n",
       "      <td>RT @traderberg: Bitcoin patterns? Scaled in pr...</td>\n",
       "      <td>1235810459531374592</td>\n",
       "      <td>2020-03-06 06:12:28</td>\n",
       "      <td>Twitter Web App</td>\n",
       "      <td>en</td>\n",
       "      <td>None</td>\n",
       "      <td>Netral</td>\n",
       "      <td>bitcoin patterns scaled in price and time btc...</td>\n",
       "    </tr>\n",
       "    <tr>\n",
       "      <td>2</td>\n",
       "      <td>RT @real12k: People have started stocking up o...</td>\n",
       "      <td>1235810458872905732</td>\n",
       "      <td>2020-03-06 06:12:28</td>\n",
       "      <td>Twitter Web App</td>\n",
       "      <td>en</td>\n",
       "      <td>None</td>\n",
       "      <td>Netral</td>\n",
       "      <td>people have started stocking up on aced while...</td>\n",
       "    </tr>\n",
       "    <tr>\n",
       "      <td>3</td>\n",
       "      <td>@ABPNews Leave Bank,Accept Bitcoin</td>\n",
       "      <td>1235810456746385411</td>\n",
       "      <td>2020-03-06 06:12:27</td>\n",
       "      <td>Twitter for Android</td>\n",
       "      <td>en</td>\n",
       "      <td>None</td>\n",
       "      <td>Netral</td>\n",
       "      <td>leave bankaccept bitcoin</td>\n",
       "    </tr>\n",
       "    <tr>\n",
       "      <td>4</td>\n",
       "      <td>RT @real12k: Looking to buy an $ACED #masterno...</td>\n",
       "      <td>1235810438924742656</td>\n",
       "      <td>2020-03-06 06:12:23</td>\n",
       "      <td>Twitter Web App</td>\n",
       "      <td>en</td>\n",
       "      <td>None</td>\n",
       "      <td>Netral</td>\n",
       "      <td>looking to buy an aced masternode now that ha...</td>\n",
       "    </tr>\n",
       "    <tr>\n",
       "      <td>...</td>\n",
       "      <td>...</td>\n",
       "      <td>...</td>\n",
       "      <td>...</td>\n",
       "      <td>...</td>\n",
       "      <td>...</td>\n",
       "      <td>...</td>\n",
       "      <td>...</td>\n",
       "      <td>...</td>\n",
       "    </tr>\n",
       "    <tr>\n",
       "      <td>94</td>\n",
       "      <td>Bitcoin Lacks Momentum Above $9k: Here’s Why B...</td>\n",
       "      <td>1235809440890146816</td>\n",
       "      <td>2020-03-06 06:08:25</td>\n",
       "      <td>twitterAutoPostFromPage</td>\n",
       "      <td>en</td>\n",
       "      <td>None</td>\n",
       "      <td>Positif</td>\n",
       "      <td>bitcoin lacks momentum above 9k here s why bul...</td>\n",
       "    </tr>\n",
       "    <tr>\n",
       "      <td>95</td>\n",
       "      <td>RT @cz_binance: When it rains, it pours. #adop...</td>\n",
       "      <td>1235809428546260993</td>\n",
       "      <td>2020-03-06 06:08:22</td>\n",
       "      <td>Twitter for Android</td>\n",
       "      <td>en</td>\n",
       "      <td>None</td>\n",
       "      <td>Netral</td>\n",
       "      <td>when it rains it pours adoption bitcoin bnb</td>\n",
       "    </tr>\n",
       "    <tr>\n",
       "      <td>96</td>\n",
       "      <td>@MartyBent Bitcoin will win!? Win what? Sounds...</td>\n",
       "      <td>1235809413639725056</td>\n",
       "      <td>2020-03-06 06:08:19</td>\n",
       "      <td>Twitter for Android</td>\n",
       "      <td>en</td>\n",
       "      <td>None</td>\n",
       "      <td>Positif</td>\n",
       "      <td>bitcoin will win win what sounds to me you ha...</td>\n",
       "    </tr>\n",
       "    <tr>\n",
       "      <td>98</td>\n",
       "      <td>RT @BTCTN: $65M Investment Fuels Natural Gas P...</td>\n",
       "      <td>1235809412305965056</td>\n",
       "      <td>2020-03-06 06:08:18</td>\n",
       "      <td>Twitter for Android</td>\n",
       "      <td>en</td>\n",
       "      <td>None</td>\n",
       "      <td>Negatif</td>\n",
       "      <td>65m investment fuels natural gas provider s b...</td>\n",
       "    </tr>\n",
       "    <tr>\n",
       "      <td>99</td>\n",
       "      <td>HAPPY 6TH ANNIVERSARY!\\n\\nto our beloved #NewY...</td>\n",
       "      <td>1235809403984433153</td>\n",
       "      <td>2020-03-06 06:08:16</td>\n",
       "      <td>Twitter Web App</td>\n",
       "      <td>en</td>\n",
       "      <td>None</td>\n",
       "      <td>Positif</td>\n",
       "      <td>bahagia 6th anniversary to kami beloved newyor...</td>\n",
       "    </tr>\n",
       "  </tbody>\n",
       "</table>\n",
       "<p>93 rows × 8 columns</p>\n",
       "</div>"
      ],
      "text/plain": [
       "                                               tweets                   id  \\\n",
       "0   @mims Fiat and debt allows future consumption ...  1235810469073416192   \n",
       "1   RT @traderberg: Bitcoin patterns? Scaled in pr...  1235810459531374592   \n",
       "2   RT @real12k: People have started stocking up o...  1235810458872905732   \n",
       "3                  @ABPNews Leave Bank,Accept Bitcoin  1235810456746385411   \n",
       "4   RT @real12k: Looking to buy an $ACED #masterno...  1235810438924742656   \n",
       "..                                                ...                  ...   \n",
       "94  Bitcoin Lacks Momentum Above $9k: Here’s Why B...  1235809440890146816   \n",
       "95  RT @cz_binance: When it rains, it pours. #adop...  1235809428546260993   \n",
       "96  @MartyBent Bitcoin will win!? Win what? Sounds...  1235809413639725056   \n",
       "98  RT @BTCTN: $65M Investment Fuels Natural Gas P...  1235809412305965056   \n",
       "99  HAPPY 6TH ANNIVERSARY!\\n\\nto our beloved #NewY...  1235809403984433153   \n",
       "\n",
       "                  date                   source lang place sentiment  \\\n",
       "0  2020-03-06 06:12:30      Twitter for Android   en  None    Netral   \n",
       "1  2020-03-06 06:12:28          Twitter Web App   en  None    Netral   \n",
       "2  2020-03-06 06:12:28          Twitter Web App   en  None    Netral   \n",
       "3  2020-03-06 06:12:27      Twitter for Android   en  None    Netral   \n",
       "4  2020-03-06 06:12:23          Twitter Web App   en  None    Netral   \n",
       "..                 ...                      ...  ...   ...       ...   \n",
       "94 2020-03-06 06:08:25  twitterAutoPostFromPage   en  None   Positif   \n",
       "95 2020-03-06 06:08:22      Twitter for Android   en  None    Netral   \n",
       "96 2020-03-06 06:08:19      Twitter for Android   en  None   Positif   \n",
       "98 2020-03-06 06:08:18      Twitter for Android   en  None   Negatif   \n",
       "99 2020-03-06 06:08:16          Twitter Web App   en  None   Positif   \n",
       "\n",
       "                                         tweet_bersih  \n",
       "0    fiat and debt allows future consumption to be...  \n",
       "1    bitcoin patterns scaled in price and time btc...  \n",
       "2    people have started stocking up on aced while...  \n",
       "3                            leave bankaccept bitcoin  \n",
       "4    looking to buy an aced masternode now that ha...  \n",
       "..                                                ...  \n",
       "94  bitcoin lacks momentum above 9k here s why bul...  \n",
       "95       when it rains it pours adoption bitcoin bnb   \n",
       "96   bitcoin will win win what sounds to me you ha...  \n",
       "98   65m investment fuels natural gas provider s b...  \n",
       "99  bahagia 6th anniversary to kami beloved newyor...  \n",
       "\n",
       "[93 rows x 8 columns]"
      ]
     },
     "execution_count": 14,
     "metadata": {},
     "output_type": "execute_result"
    }
   ],
   "source": [
    "#--- REMOVE DUPLICATES\n",
    "df = df.drop_duplicates(['tweet_bersih'])\n",
    "df"
   ]
  },
  {
   "cell_type": "code",
   "execution_count": 15,
   "metadata": {
    "colab": {},
    "colab_type": "code",
    "id": "3e5jb0-Ymxy3"
   },
   "outputs": [],
   "source": [
    "df.to_excel(\"Data Tanggal 6 siang (bitcoin).xlsx\")\n",
    "df.to_csv(\"Data Tanggal 6 siang (bitcoin).csv\")"
   ]
  },
  {
   "cell_type": "markdown",
   "metadata": {},
   "source": [
    "# Visualisasi Data"
   ]
  },
  {
   "cell_type": "code",
   "execution_count": null,
   "metadata": {
    "colab": {
     "base_uri": "https://localhost:8080/",
     "height": 408
    },
    "colab_type": "code",
    "id": "6-3TXNjGmxy5",
    "outputId": "5e834ef3-4167-4fdc-86f5-b4338a49932e",
    "scrolled": true
   },
   "outputs": [],
   "source": [
    "df = pd.read_excel('myindihome.xlsx',header=0,encoding = 'unicode_escape')\n",
    "#df = df.drop(columns = \"Unnamed: 0\")\n",
    "df.count"
   ]
  },
  {
   "cell_type": "code",
   "execution_count": null,
   "metadata": {
    "colab": {
     "base_uri": "https://localhost:8080/",
     "height": 341
    },
    "colab_type": "code",
    "id": "iv0K99ZrwUQ1",
    "outputId": "68b4fd84-c792-44e0-b97e-1aa51535964e"
   },
   "outputs": [],
   "source": [
    "df = df.drop_duplicates(['tweet_bersih'])\n",
    "df = df.set_index(\"source\")\n",
    "df = df.drop(\"Sociomedio Pro Telkom\", axis=0)"
   ]
  },
  {
   "cell_type": "code",
   "execution_count": null,
   "metadata": {
    "colab": {},
    "colab_type": "code",
    "id": "ItvsqbuuwUQ9"
   },
   "outputs": [],
   "source": [
    "df_positif = df[df['sentiment'] == 'Positif']\n",
    "df_negatif = df[df['sentiment'] == 'Negatif']\n",
    "df_netral = df[df['sentiment'] == 'Netral']\n",
    "df_negatif"
   ]
  },
  {
   "cell_type": "code",
   "execution_count": null,
   "metadata": {
    "colab": {
     "base_uri": "https://localhost:8080/",
     "height": 85
    },
    "colab_type": "code",
    "id": "mHtnlo6wmxy8",
    "outputId": "33ad216d-b059-49a2-eafa-bbeb7d2841a5"
   },
   "outputs": [],
   "source": [
    "sentimen_count = df['sentiment'].value_counts()\n",
    "sentimen_count"
   ]
  },
  {
   "cell_type": "code",
   "execution_count": null,
   "metadata": {
    "colab": {
     "base_uri": "https://localhost:8080/",
     "height": 281
    },
    "colab_type": "code",
    "id": "cx_5KchlmxzA",
    "outputId": "85f61c67-cdc8-4937-95f1-2b96b97fa9bc"
   },
   "outputs": [],
   "source": [
    "objects = sentimen_count.index\n",
    "y_pos = np.arange(len(objects))\n",
    "performance = sentimen_count\n",
    " \n",
    "plt.bar(y_pos, performance, align='center', alpha=0.5)\n",
    "plt.xticks(y_pos, objects)\n",
    "plt.ylabel('Jumlah dalam tweets')\n",
    "plt.title('Sentiment Topik Wifi.id')\n",
    " \n",
    "plt.show()\n",
    "plt.show()"
   ]
  },
  {
   "cell_type": "code",
   "execution_count": null,
   "metadata": {
    "colab": {
     "base_uri": "https://localhost:8080/",
     "height": 255
    },
    "colab_type": "code",
    "id": "yQkptqjEmxzD",
    "outputId": "f952adac-8191-44bd-bade-8ce0d2acf6e3"
   },
   "outputs": [],
   "source": [
    "labels = sentimen_count.index\n",
    "sizes = sentimen_count\n",
    "colors = ['steelblue', 'red', 'gray']\n",
    "explode = (0.2, 0.1, 0.1)  # explode 1st slice\n",
    " \n",
    "# Plot\n",
    "plt.pie(sizes, explode=explode, labels=labels, colors=colors,\n",
    "        autopct='%1.1f%%', shadow=True, startangle=140)\n",
    " \n",
    "plt.axis('equal')\n",
    "plt.show()"
   ]
  },
  {
   "cell_type": "code",
   "execution_count": null,
   "metadata": {
    "colab": {},
    "colab_type": "code",
    "id": "jJq-7I7tmxzI"
   },
   "outputs": [],
   "source": [
    "from wordcloud import WordCloud\n",
    "from Sastrawi.StopWordRemover.StopWordRemoverFactory import StopWordRemoverFactory\n",
    "factory = StopWordRemoverFactory()\n",
    "stopwords = factory.get_stop_words()"
   ]
  },
  {
   "cell_type": "code",
   "execution_count": null,
   "metadata": {
    "colab": {},
    "colab_type": "code",
    "id": "nEZzClf9mxzO"
   },
   "outputs": [],
   "source": [
    "words_positif = ' '.join(df_positif['tweet_bersih'])\n",
    "words_negatif = ' '.join(df_negatif['tweet_bersih'])\n",
    "words_netral = ' '.join(df_netral['tweet_bersih'])"
   ]
  },
  {
   "cell_type": "code",
   "execution_count": null,
   "metadata": {
    "colab": {},
    "colab_type": "code",
    "id": "YUyu2uGhmxzS"
   },
   "outputs": [],
   "source": [
    "wordcloud = WordCloud(stopwords = stopwords, background_color='white', \n",
    "                      height = 1000, width = 2000).generate(words_positif)"
   ]
  },
  {
   "cell_type": "code",
   "execution_count": null,
   "metadata": {
    "colab": {
     "base_uri": "https://localhost:8080/",
     "height": 261
    },
    "colab_type": "code",
    "id": "MlQYPklHwUR3",
    "outputId": "c92778b8-7f98-46e7-c2b8-375c6b594bec"
   },
   "outputs": [],
   "source": [
    "plt.imshow(wordcloud, interpolation = \"bilinear\")\n",
    "plt.axis('off')\n",
    "plt.show()"
   ]
  },
  {
   "cell_type": "code",
   "execution_count": null,
   "metadata": {
    "colab": {
     "base_uri": "https://localhost:8080/",
     "height": 34
    },
    "colab_type": "code",
    "id": "xKV4WT4YwUSD",
    "outputId": "596452ee-b8b7-4e30-a4ea-a8e7d0d07218"
   },
   "outputs": [],
   "source": [
    "# Save the image\n",
    "wordcloud.to_file(\"wordcloud_positif.png\")"
   ]
  },
  {
   "cell_type": "code",
   "execution_count": null,
   "metadata": {
    "colab": {},
    "colab_type": "code",
    "id": "3Og4yLytwUSI"
   },
   "outputs": [],
   "source": [
    "wordcloud = WordCloud(stopwords = stopwords, background_color='white', \n",
    "                      height = 1000, width = 2000).generate(words_negatif)"
   ]
  },
  {
   "cell_type": "code",
   "execution_count": null,
   "metadata": {
    "colab": {
     "base_uri": "https://localhost:8080/",
     "height": 261
    },
    "colab_type": "code",
    "id": "cECABSjPmxza",
    "outputId": "093badfb-2488-4466-db09-55dea72147b2"
   },
   "outputs": [],
   "source": [
    "plt.imshow(wordcloud, interpolation = \"bilinear\")\n",
    "plt.axis('off')\n",
    "plt.show()"
   ]
  },
  {
   "cell_type": "code",
   "execution_count": null,
   "metadata": {
    "colab": {
     "base_uri": "https://localhost:8080/",
     "height": 34
    },
    "colab_type": "code",
    "id": "Ft1ExPvjmxzk",
    "outputId": "d4a1b3fd-ae46-4fb0-d5a0-20815f536480"
   },
   "outputs": [],
   "source": [
    "# Save the image\n",
    "wordcloud.to_file(\"wordcloud_negatif1.png\")"
   ]
  },
  {
   "cell_type": "code",
   "execution_count": null,
   "metadata": {
    "colab": {},
    "colab_type": "code",
    "id": "8FGliCPWuLKv"
   },
   "outputs": [],
   "source": [
    "wordcloud = WordCloud(stopwords = stopwords, background_color='white', \n",
    "                      height = 1000, width = 2000).generate(words_netral)"
   ]
  },
  {
   "cell_type": "code",
   "execution_count": null,
   "metadata": {
    "colab": {
     "base_uri": "https://localhost:8080/",
     "height": 261
    },
    "colab_type": "code",
    "id": "gkxb_vZ-wUSh",
    "outputId": "45c166cf-cf15-4748-fce2-3cc776c57d22"
   },
   "outputs": [],
   "source": [
    "plt.imshow(wordcloud, interpolation = \"bilinear\")\n",
    "plt.axis('off')\n",
    "plt.show()"
   ]
  },
  {
   "cell_type": "code",
   "execution_count": null,
   "metadata": {
    "colab": {
     "base_uri": "https://localhost:8080/",
     "height": 34
    },
    "colab_type": "code",
    "id": "c0nPmFgswUSk",
    "outputId": "56635974-1fcb-49a7-aa09-363174f85bdb"
   },
   "outputs": [],
   "source": [
    "# Save the image\n",
    "wordcloud.to_file(\"wordcloud_netral.png\")"
   ]
  }
 ],
 "metadata": {
  "colab": {
   "collapsed_sections": [],
   "name": "Twitter_Mining_dengan_Textblob_dan_Wordcloud_3_2.ipynb",
   "provenance": [],
   "version": "0.3.2"
  },
  "kernelspec": {
   "display_name": "Python 3",
   "language": "python",
   "name": "python3"
  },
  "language_info": {
   "codemirror_mode": {
    "name": "ipython",
    "version": 3
   },
   "file_extension": ".py",
   "mimetype": "text/x-python",
   "name": "python",
   "nbconvert_exporter": "python",
   "pygments_lexer": "ipython3",
   "version": "3.7.4"
  }
 },
 "nbformat": 4,
 "nbformat_minor": 1
}
